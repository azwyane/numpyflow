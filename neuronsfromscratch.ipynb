{
 "cells": [
  {
   "cell_type": "code",
   "execution_count": 77,
   "id": "cde0347f-6e1d-490e-af1f-ec327e5f998d",
   "metadata": {},
   "outputs": [],
   "source": [
    "import numpy as np"
   ]
  },
  {
   "cell_type": "code",
   "execution_count": 78,
   "id": "bbb912c1-523b-43f1-ab3c-c6a87a54e608",
   "metadata": {},
   "outputs": [],
   "source": [
    "X = [\n",
    "    [1,0,1,1],\n",
    "    [1,0,0,1],\n",
    "    [1,1,1,0],\n",
    "    [0,1,1,0],\n",
    "]\n",
    "Y  = [1,0,0,1]"
   ]
  },
  {
   "cell_type": "code",
   "execution_count": 79,
   "id": "60b2dff2-91c4-4271-b8c5-fb7dd47a50b0",
   "metadata": {},
   "outputs": [],
   "source": [
    "x = np.array(X)\n",
    "y = np.array(Y)"
   ]
  },
  {
   "cell_type": "code",
   "execution_count": 80,
   "id": "e1de60fd-121d-4120-b16c-5b604b5e032b",
   "metadata": {},
   "outputs": [
    {
     "name": "stdout",
     "output_type": "stream",
     "text": [
      "x : \n",
      " [[1 0 1 1]\n",
      " [1 0 0 1]\n",
      " [1 1 1 0]\n",
      " [0 1 1 0]] \n",
      " (4, 4)\n",
      "\n",
      "\n",
      "y : \n",
      " [1 0 0 1] \n",
      " (4,)\n"
     ]
    }
   ],
   "source": [
    "print(\"x :\",\"\\n\",x,\"\\n\",x.shape)\n",
    "print(\"\\n\")\n",
    "print(\"y :\",\"\\n\",y,\"\\n\",y.shape)\n"
   ]
  },
  {
   "cell_type": "code",
   "execution_count": 88,
   "id": "b33c2065-408a-44d6-b935-c0a9edce6204",
   "metadata": {},
   "outputs": [],
   "source": [
    "class Sequential():\n",
    "    \n",
    "    def __init__(self,*args,**kwargs):\n",
    "        self.layers = args[0]\n",
    "        self.name = kwargs.get('name',\"Model\")\n",
    "        self.learning_rate = 0.001\n",
    "    \n",
    "    def summary(self):\n",
    "        print(self.name)\n",
    "        for _ in self.layers:\n",
    "            print(_.name,_.units)\n",
    "    \n",
    "    def compile(self):\n",
    "        pass\n",
    "    \n",
    "    def fit(self,x,y,epochs=1):   \n",
    "        m = x.shape[0]\n",
    "        n = x.shape[1]\n",
    "        output = list()\n",
    "        #layers forward pass\n",
    "        act = x \n",
    "        loss = list()\n",
    "        for i in range(epochs):\n",
    "            for layer in self.layers:\n",
    "                act = layer.forward(x=act)\n",
    "            \n",
    "            # losses = compute_losses()\n",
    "            # cost = compute_cost()\n",
    "            # #backward pass\n",
    "            # for layer in self.layers:\n",
    "            #     layer.backward(learning_rate=learning_rate,losses)\n",
    "        \n",
    "        return act\n",
    "            \n",
    "            "
   ]
  },
  {
   "cell_type": "code",
   "execution_count": 89,
   "id": "e0edc623-13b2-49ba-86ac-6d9d78638286",
   "metadata": {},
   "outputs": [],
   "source": [
    "class Dense():\n",
    "    \n",
    "    def __init__(self,units:int=1,name:str=\"dense\",activation:str=\"relu\"):\n",
    "        self.name = name\n",
    "        self.activation = activation\n",
    "        self.units = units\n",
    "        self.x = None\n",
    "        self.w = None\n",
    "        self.b = None\n",
    "        \n",
    "    def forward(self,x,w=None,b=None):\n",
    "        \n",
    "        w = np.random.uniform(low=0.0, high=1.0, size=(x.shape[1],self.units))\n",
    "        b = np.random.uniform(size=(1,self.units))\n",
    "        act = self.activation\n",
    "        activation_func = self.get_acts(act)\n",
    "        z = np.matmul(x,w) + b\n",
    "        g = activation_func(z)\n",
    "        return g\n",
    "        \n",
    "    @staticmethod    \n",
    "    def loss(yhat,yactual):\n",
    "        loss = yhat - yactual\n",
    "        return loss\n",
    "    \n",
    "    def gradient_desc():\n",
    "        pass\n",
    "    \n",
    "    def backward():\n",
    "        pass\n",
    "    \n",
    "    @staticmethod\n",
    "    def sigmoid(x):\n",
    "        exp_term = 1 + np.exp(-x)\n",
    "        return 1/exp_term\n",
    "    \n",
    "    @staticmethod\n",
    "    def relu(x):\n",
    "        return np.maximum(x, 0)\n",
    "    \n",
    "    \n",
    "    def get_acts(self,name='relu'):\n",
    "        if name == 'sigmoid':\n",
    "            return self.sigmoid\n",
    "        \n",
    "        if name == 'relu':\n",
    "            return self.relu\n",
    "        \n",
    "    "
   ]
  },
  {
   "cell_type": "code",
   "execution_count": 90,
   "id": "d635660f-60da-46e5-8546-b4a0f535ea2d",
   "metadata": {},
   "outputs": [],
   "source": [
    "class Input():\n",
    "    \n",
    "    def __init__(self,shape):\n",
    "        self.shape = shape\n",
    "        self.act = None\n",
    "        self.name = \"Input_layer\"\n",
    "        self.units = shape[0]\n",
    "    \n",
    "    def forward(self,x,*args,**kwargs):\n",
    "        return x\n",
    "    \n",
    "    def backward(self,*args,**kwargs):\n",
    "        pass\n",
    "    \n",
    "    def __str__(self):\n",
    "        return f\"{(self.name,self.shape)}\"\n",
    "        \n",
    "    "
   ]
  },
  {
   "cell_type": "code",
   "execution_count": 91,
   "id": "f9d441a1-1c8d-4aed-a83d-0c90f48e54ea",
   "metadata": {},
   "outputs": [],
   "source": [
    "model = Sequential([\n",
    "                        Input(shape=(32,32)),\n",
    "                        Dense(units=128,activation=\"sigmoid\",name=\"dense_1\"),\n",
    "                        Dense(units=50,name=\"dense_2\"),\n",
    "                        Dense(units=10,name=\"dense_3\"),\n",
    "                        Dense(units=2,name=\"dense_4\")\n",
    "                        \n",
    "],name=\"my_model\")"
   ]
  },
  {
   "cell_type": "code",
   "execution_count": 92,
   "id": "147ca051-9666-4f38-b8fa-21392615e8a1",
   "metadata": {},
   "outputs": [
    {
     "name": "stdout",
     "output_type": "stream",
     "text": [
      "my_model\n",
      "Input_layer 32\n",
      "dense_1 128\n",
      "dense_2 50\n",
      "dense_3 10\n",
      "dense_4 2\n"
     ]
    }
   ],
   "source": [
    "model.summary()"
   ]
  },
  {
   "cell_type": "code",
   "execution_count": 93,
   "id": "70b83d7b-30a1-4a97-945c-ef689dcadfe3",
   "metadata": {},
   "outputs": [
    {
     "data": {
      "text/plain": [
       "array([[5651.65286474, 5224.33827818],\n",
       "       [5226.37678292, 4830.96946468],\n",
       "       [5682.93841935, 5253.44548727],\n",
       "       [5308.8501059 , 4907.95297482]])"
      ]
     },
     "execution_count": 93,
     "metadata": {},
     "output_type": "execute_result"
    }
   ],
   "source": [
    "model.fit(x,y)"
   ]
  },
  {
   "cell_type": "code",
   "execution_count": null,
   "id": "e985eca1-0018-47f6-83d5-0275a3d1a90f",
   "metadata": {},
   "outputs": [],
   "source": []
  }
 ],
 "metadata": {
  "kernelspec": {
   "display_name": "Python 3 (ipykernel)",
   "language": "python",
   "name": "python3"
  },
  "language_info": {
   "codemirror_mode": {
    "name": "ipython",
    "version": 3
   },
   "file_extension": ".py",
   "mimetype": "text/x-python",
   "name": "python",
   "nbconvert_exporter": "python",
   "pygments_lexer": "ipython3",
   "version": "3.10.5"
  }
 },
 "nbformat": 4,
 "nbformat_minor": 5
}
